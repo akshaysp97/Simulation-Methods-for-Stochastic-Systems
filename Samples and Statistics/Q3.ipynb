{
 "cells": [
  {
   "cell_type": "markdown",
   "metadata": {},
   "source": [
    "# Simulate uniform sampling with replacement from the outcomes 0, 1, 2, 3, …, M‐1 where M = 10"
   ]
  },
  {
   "cell_type": "code",
   "execution_count": 4,
   "metadata": {},
   "outputs": [
    {
     "data": {
      "image/png": "[encoded data removed]",
      "text/plain": [
       "<Figure size 432x288 with 1 Axes>"
      ]
     },
     "metadata": {
      "needs_background": "light"
     },
     "output_type": "display_data"
    }
   ],
   "source": [
    "#(a) Histogram of outcomes\n",
    "\n",
    "import math\n",
    "import random\n",
    "import numpy as np\n",
    "import matplotlib.pyplot as plt\n",
    "\n",
    "def sampling(low,up,n):\n",
    " samp = []\n",
    " for num in range(n):\n",
    "     samp.append(random.randint(low,up))\n",
    " return samp\n",
    "\n",
    "sampl = sampling(0,9,10000)\n",
    "plt.hist(sampl,bins=10, color = 'y',edgecolor='black')\n",
    "plt.title('Histogram of 10000 uniformly distributed samples in the interval[0,9]')\n",
    "plt.xlabel('Sample Value')\n",
    "plt.ylabel('Sample Frequency')\n",
    "plt.show()"
   ]
  },
  {
   "cell_type": "code",
   "execution_count": 2,
   "metadata": {},
   "outputs": [
    {
     "name": "stdout",
     "output_type": "stream",
     "text": [
      "The experimental value of chi-squared is  5.124\n",
      "The expected value of chi-squared with 95% C.I :  16.918977604620448\n",
      "This is a Good fit\n"
     ]
    }
   ],
   "source": [
    "#(b) Chi-Squared goodness of fit\n",
    "\n",
    "from scipy.stats.distributions import chi2\n",
    "\n",
    "sample = sampling(0,9,10000)\n",
    "exp = 10000/10\n",
    "lst_1 = np.ones(10)\n",
    "exp_1 = exp * lst_1\n",
    "obs = []\n",
    "for i in range(10):\n",
    " obs.append(sample.count(i))\n",
    "\n",
    "experi = 0\n",
    "for i in range(0,10):\n",
    " Chi_sq= ((obs[i] - exp_1[i])**2)/exp\n",
    " experi += Chi_sq\n",
    "expected = chi2.ppf(0.95, df=9)\n",
    "print(\"The experimental value of chi-squared is \",experi)\n",
    "print(\"The expected value of chi-squared with 95% C.I : \", expected)\n",
    "if experi < expected:\n",
    "    print('This is a Good fit')\n",
    "else:\n",
    "    print('This is a Bad fit')"
   ]
  },
  {
   "cell_type": "code",
   "execution_count": 3,
   "metadata": {},
   "outputs": [
    {
     "name": "stdout",
     "output_type": "stream",
     "text": [
      "The experimental value of chi-squared is  1007.378\n",
      "The expected value of chi-squared with 95% C.I :  16.918977604620448\n",
      "This is a Bad fit\n"
     ]
    }
   ],
   "source": [
    "#(c) Chi-Sqaured test on alternate uniform distribution\n",
    "\n",
    "new_sample = sampling(1,10,10000)\n",
    "exp = 10000/10\n",
    "lst_1 = np.ones(10)\n",
    "exp_1 = exp * lst_1\n",
    "obs = []\n",
    "for i in range(10):\n",
    " obs.append(new_sample.count(i))\n",
    "\n",
    "experi = 0\n",
    "for i in range(0,10):\n",
    " Chi_sq= ((obs[i] - exp_1[i])**2)/exp\n",
    " experi += Chi_sq\n",
    "expected = chi2.ppf(0.95, df=9)\n",
    "print(\"The experimental value of chi-squared is \",experi)\n",
    "print(\"The expected value of chi-squared with 95% C.I : \", expected)\n",
    "if experi < expected:\n",
    "    print('This is a Good fit')\n",
    "else:\n",
    "    print('This is a Bad fit')"
   ]
  }
 ],
 "metadata": {
  "kernelspec": {
   "display_name": "Python 3",
   "language": "python",
   "name": "python3"
  },
  "language_info": {
   "codemirror_mode": {
    "name": "ipython",
    "version": 3
   },
   "file_extension": ".py",
   "mimetype": "text/x-python",
   "name": "python",
   "nbconvert_exporter": "python",
   "pygments_lexer": "ipython3",
   "version": "3.7.7"
  }
 },
 "nbformat": 4,
 "nbformat_minor": 4
}
