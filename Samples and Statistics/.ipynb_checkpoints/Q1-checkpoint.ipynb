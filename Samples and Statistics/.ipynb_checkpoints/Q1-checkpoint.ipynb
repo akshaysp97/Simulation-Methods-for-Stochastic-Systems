{
 "cells": [
  {
   "cell_type": "markdown",
   "metadata": {},
   "source": [
    "# Project #2"
   ]
  },
  {
   "cell_type": "markdown",
   "metadata": {},
   "source": [
    "# Problem 1(a)"
   ]
  },
  {
   "cell_type": "code",
   "execution_count": 6,
   "metadata": {},
   "outputs": [
    {
     "data": {
      "image/png": "[encoded data removed]",
      "text/plain": [
       "<Figure size 432x288 with 1 Axes>"
      ]
     },
     "metadata": {
      "needs_background": "light"
     },
     "output_type": "display_data"
    }
   ],
   "source": [
    "#Q1 (a) Histogram of outcomes\n",
    "\n",
    "import math\n",
    "import random\n",
    "import numpy as np\n",
    "import matplotlib.pyplot as plt\n",
    "import bootstrapped.bootstrap as bs\n",
    "import bootstrapped.stats_functions as bs_stats\n",
    "\n",
    "up = 2\n",
    "low = -3\n",
    "n = 10000\n",
    "samp = []\n",
    "for i in range(n):\n",
    "    samp.append(random.uniform(low,up))\n",
    "plt.hist(samp,bins='auto', color = 'green',edgecolor='black')\n",
    "plt.title('Histogram of 10000 uniformly distributed samples')\n",
    "plt.xlabel('Sample Value')\n",
    "plt.ylabel('Sample Frequency')\n",
    "plt.show()"
   ]
  },
  {
   "cell_type": "markdown",
   "metadata": {},
   "source": [
    "# Problem 1 (b)"
   ]
  },
  {
   "cell_type": "code",
   "execution_count": 7,
   "metadata": {},
   "outputs": [
    {
     "name": "stdout",
     "output_type": "stream",
     "text": [
      "Theoretical mean =  -0.5\n",
      "Theoretical Variance =   2.0833333333333335\n",
      "Sample mean = -0.5024091139574623\n",
      "Sample variance = 2.08675151938459\n"
     ]
    }
   ],
   "source": [
    "#Q1 (b) Sample Mean and Sample Variance\n",
    "\n",
    "theoretical_mean = ((low+up)/2)\n",
    "print(\"Theoretical mean = \" , theoretical_mean)\n",
    "theoretical_var = (((up-low)**2)/12)\n",
    "print(\"Theoretical Variance =  \" , theoretical_var)\n",
    "\n",
    "mean = np.mean(samp)\n",
    "print(\"Sample mean =\", mean )\n",
    "var = np.var(samp)\n",
    "print(\"Sample variance =\", var)"
   ]
  },
  {
   "cell_type": "markdown",
   "metadata": {},
   "source": [
    "# Problem 1(c)"
   ]
  },
  {
   "cell_type": "code",
   "execution_count": 9,
   "metadata": {},
   "outputs": [
    {
     "name": "stdout",
     "output_type": "stream",
     "text": [
      "Bootstrap Confidence Interval for Sample mean = -0.5024091139574623    (-0.5306083408290234, -0.47331739855279453)\n",
      "Bootstrap Confidence Interval for Sample variance = 1.444559282059615    (1.4320565169803492, 1.4575169775347185)\n"
     ]
    }
   ],
   "source": [
    "#Q1 (c) Bootstrap Confidence Interval\n",
    "\n",
    "sampl = np.array(samp)\n",
    "bsr = bs.bootstrap(sampl, stat_func=bs_stats.mean, alpha=0.05)\n",
    "print(\"Bootstrap Confidence Interval for Sample mean =\",bsr)\n",
    "\n",
    "bsr = bs.bootstrap(sampl, stat_func=bs_stats.std, alpha=0.05)\n",
    "print(\"Bootstrap Confidence Interval for Sample variance =\",bsr)"
   ]
  },
  {
   "cell_type": "markdown",
   "metadata": {},
   "source": [
    "# Problem 2 (a)"
   ]
  },
  {
   "cell_type": "code",
   "execution_count": 18,
   "metadata": {},
   "outputs": [
    {
     "name": "stdout",
     "output_type": "stream",
     "text": [
      "Covariance of Xk and Xk+1 :\n",
      " [[ 0.08271376 -0.00127093]\n",
      " [-0.00127093  0.08273448]]\n"
     ]
    }
   ],
   "source": [
    "#Q2 (a) Covariance of Xk and Xk+1\n",
    "\n",
    "import random\n",
    "import numpy as np\n",
    "\n",
    "up = 1\n",
    "low = 0\n",
    "n = 10000\n",
    "Xk = []\n",
    "for i in range(n):\n",
    "    Xk.append(random.uniform(low,up))\n",
    "Xk1 = [0] + Xk[:-1]\n",
    "print(\"Covariance of Xk and Xk+1 :\\n\" ,np.cov(Xk,Xk1))"
   ]
  },
  {
   "cell_type": "markdown",
   "metadata": {},
   "source": [
    "# Problem 2(b)"
   ]
  },
  {
   "cell_type": "code",
   "execution_count": 19,
   "metadata": {},
   "outputs": [
    {
     "name": "stdout",
     "output_type": "stream",
     "text": [
      "Covariance of Xk and Yk :\n",
      " [[0.08271376 0.08336991]\n",
      " [0.08336991 0.52061139]]\n"
     ]
    }
   ],
   "source": [
    "#Q2 (b) Covariance of Xk and Yk\n",
    "\n",
    "Xk_1 =Xk[1:] + [0]\n",
    "Xk_2 = Xk_1[1:] + [0]\n",
    "Xk_3 = Xk_2[1:] + [0]\n",
    "Y = []\n",
    "for i in range(len(Xk)):\n",
    " Y.append(Xk[i] - 2*Xk_1[i] + 0.5*Xk_2[i] - Xk_3[i])\n",
    "print(\"Covariance of Xk and Yk :\\n\" , np.cov(Xk,Y))"
   ]
  },
  {
   "cell_type": "markdown",
   "metadata": {},
   "source": [
    "# Problem 3(a)"
   ]
  },
  {
   "cell_type": "code",
   "execution_count": 20,
   "metadata": {},
   "outputs": [
    {
     "data": {
      "image/png": "[encoded data removed]",
      "text/plain": [
       "<Figure size 432x288 with 1 Axes>"
      ]
     },
     "metadata": {
      "needs_background": "light"
     },
     "output_type": "display_data"
    }
   ],
   "source": [
    "#Q3 (a) Histogram of outcomes\n",
    "\n",
    "import math\n",
    "import random\n",
    "import numpy as np\n",
    "import matplotlib.pyplot as plt\n",
    "\n",
    "def sampling(low,up,n):\n",
    " samp = []\n",
    " for num in range(n):\n",
    "     samp.append(random.randint(low,up))\n",
    " return samp\n",
    "\n",
    "sampl = sampling(0,9,10000)\n",
    "plt.hist(sampl,bins=10, color = 'y',edgecolor='black')\n",
    "plt.title('Histogram of 10000 uniformly distributed samples in the interval[0,9]')\n",
    "plt.xlabel('Sample Value')\n",
    "plt.ylabel('Sample Frequency')\n",
    "plt.show()"
   ]
  },
  {
   "cell_type": "markdown",
   "metadata": {},
   "source": [
    "# Problem 3(b)"
   ]
  },
  {
   "cell_type": "code",
   "execution_count": 41,
   "metadata": {},
   "outputs": [
    {
     "name": "stdout",
     "output_type": "stream",
     "text": [
      "The experimental value of chi-squared is  13.666\n",
      "The expected value of chi-squared with 95% C.I :  16.918977604620448\n",
      "This is a Good fit\n"
     ]
    }
   ],
   "source": [
    "#Q3 (b) Chi-Squared goodness of fit\n",
    "\n",
    "from scipy.stats.distributions import chi2\n",
    "\n",
    "sample = sampling(0,9,10000)\n",
    "exp = 10000/10\n",
    "lst_1 = np.ones(10)\n",
    "exp_1 = exp * lst_1\n",
    "obs = []\n",
    "for i in range(10):\n",
    " obs.append(sample.count(i))\n",
    "\n",
    "experi = 0\n",
    "for i in range(0,10):\n",
    " Chi_sq= ((obs[i] - exp_1[i])**2)/exp\n",
    " experi += Chi_sq\n",
    "expected = chi2.ppf(0.95, df=9)\n",
    "print(\"The experimental value of chi-squared is \",experi)\n",
    "print(\"The expected value of chi-squared with 95% C.I : \", expected)\n",
    "if experi < expected:\n",
    "    print('This is a Good fit')\n",
    "else:\n",
    "    print('This is a Bad fit')"
   ]
  },
  {
   "cell_type": "markdown",
   "metadata": {},
   "source": [
    "# Problem 3(c)"
   ]
  },
  {
   "cell_type": "code",
   "execution_count": 43,
   "metadata": {},
   "outputs": [
    {
     "name": "stdout",
     "output_type": "stream",
     "text": [
      "The experimental value of chi-squared is  1007.1739999999998\n",
      "The expected value of chi-squared with 95% C.I :  16.918977604620448\n",
      "This is a Bad fit\n"
     ]
    }
   ],
   "source": [
    "#Q3 (c) Chi-Sqaured test on alternate uniform distribution\n",
    "\n",
    "new_sample = sampling(1,10,10000)\n",
    "exp = 10000/10\n",
    "lst_1 = np.ones(10)\n",
    "exp_1 = exp * lst_1\n",
    "obs = []\n",
    "for i in range(10):\n",
    " obs.append(new_sample.count(i))\n",
    "\n",
    "experi = 0\n",
    "for i in range(0,10):\n",
    " Chi_sq= ((obs[i] - exp_1[i])**2)/exp\n",
    " experi += Chi_sq\n",
    "expected = chi2.ppf(0.95, df=9)\n",
    "print(\"The experimental value of chi-squared is \",experi)\n",
    "print(\"The expected value of chi-squared with 95% C.I : \", expected)\n",
    "if experi < expected:\n",
    "    print('This is a Good fit')\n",
    "else:\n",
    "    print('This is a Bad fit')"
   ]
  },
  {
   "cell_type": "code",
   "execution_count": null,
   "metadata": {},
   "outputs": [],
   "source": []
  }
 ],
 "metadata": {
  "kernelspec": {
   "display_name": "Python 3",
   "language": "python",
   "name": "python3"
  },
  "language_info": {
   "codemirror_mode": {
    "name": "ipython",
    "version": 3
   },
   "file_extension": ".py",
   "mimetype": "text/x-python",
   "name": "python",
   "nbconvert_exporter": "python",
   "pygments_lexer": "ipython3",
   "version": "3.7.4"
  }
 },
 "nbformat": 4,
 "nbformat_minor": 4
}
