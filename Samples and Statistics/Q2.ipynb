{
 "cells": [
  {
   "cell_type": "markdown",
   "metadata": {},
   "source": [
    "# Problem 2 (a)"
   ]
  },
  {
   "cell_type": "code",
   "execution_count": 1,
   "metadata": {},
   "outputs": [
    {
     "name": "stdout",
     "output_type": "stream",
     "text": [
      "Covariance of Xk and Xk+1 :\n",
      " [[ 0.08487909 -0.00019841]\n",
      " [-0.00019841  0.08487959]]\n"
     ]
    }
   ],
   "source": [
    "#Q2 (a) Covariance of Xk and Xk+1\n",
    "\n",
    "import random\n",
    "import numpy as np\n",
    "\n",
    "up = 1\n",
    "low = 0\n",
    "n = 10000\n",
    "Xk = []\n",
    "for i in range(n):\n",
    "    Xk.append(random.uniform(low,up))\n",
    "Xk1 = [0] + Xk[:-1]\n",
    "print(\"Covariance of Xk and Xk+1 :\\n\" ,np.cov(Xk,Xk1))"
   ]
  },
  {
   "cell_type": "markdown",
   "metadata": {},
   "source": [
    "# Problem 2(b)"
   ]
  },
  {
   "cell_type": "code",
   "execution_count": 2,
   "metadata": {},
   "outputs": [
    {
     "name": "stdout",
     "output_type": "stream",
     "text": [
      "Covariance of Xk and Yk :\n",
      " [[0.08487909 0.08447559]\n",
      " [0.08447559 0.52476782]]\n"
     ]
    }
   ],
   "source": [
    "#Q2 (b) Covariance of Xk and Yk\n",
    "\n",
    "Xk_1 =Xk[1:] + [0]\n",
    "Xk_2 = Xk_1[1:] + [0]\n",
    "Xk_3 = Xk_2[1:] + [0]\n",
    "Y = []\n",
    "for i in range(len(Xk)):\n",
    " Y.append(Xk[i] - 2*Xk_1[i] + 0.5*Xk_2[i] - Xk_3[i])\n",
    "print(\"Covariance of Xk and Yk :\\n\" , np.cov(Xk,Y))"
   ]
  }
 ],
 "metadata": {
  "kernelspec": {
   "display_name": "Python 3",
   "language": "python",
   "name": "python3"
  },
  "language_info": {
   "codemirror_mode": {
    "name": "ipython",
    "version": 3
   },
   "file_extension": ".py",
   "mimetype": "text/x-python",
   "name": "python",
   "nbconvert_exporter": "python",
   "pygments_lexer": "ipython3",
   "version": "3.7.4"
  }
 },
 "nbformat": 4,
 "nbformat_minor": 4
}
