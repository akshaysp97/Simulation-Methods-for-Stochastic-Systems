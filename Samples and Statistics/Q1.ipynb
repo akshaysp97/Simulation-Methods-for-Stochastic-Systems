{
 "cells": [
  {
   "cell_type": "markdown",
   "metadata": {},
   "source": [
    "# Simulate sampling uniformly on the interval [-3,2]"
   ]
  },
  {
   "cell_type": "code",
   "execution_count": 6,
   "metadata": {},
   "outputs": [
    {
     "data": {
      "image/png": "[encoded data removed]",
      "text/plain": [
       "<Figure size 432x288 with 1 Axes>"
      ]
     },
     "metadata": {
      "needs_background": "light"
     },
     "output_type": "display_data"
    }
   ],
   "source": [
    "#(a) Histogram of outcomes\n",
    "\n",
    "import math\n",
    "import random\n",
    "import numpy as np\n",
    "import matplotlib.pyplot as plt\n",
    "import bootstrapped.bootstrap as bs\n",
    "import bootstrapped.stats_functions as bs_stats\n",
    "\n",
    "up = 2\n",
    "low = -3\n",
    "n = 10000\n",
    "samp = []\n",
    "for i in range(n):\n",
    "    samp.append(random.uniform(low,up))\n",
    "plt.hist(samp,bins='auto', color = 'green',edgecolor='black')\n",
    "plt.title('Histogram of 10000 uniformly distributed samples')\n",
    "plt.xlabel('Sample Value')\n",
    "plt.ylabel('Sample Frequency')\n",
    "plt.show()"
   ]
  },
  {
   "cell_type": "code",
   "execution_count": 7,
   "metadata": {},
   "outputs": [
    {
     "name": "stdout",
     "output_type": "stream",
     "text": [
      "Theoretical mean =  -0.5\n",
      "Theoretical Variance =   2.0833333333333335\n",
      "Sample mean = -0.5024091139574623\n",
      "Sample variance = 2.08675151938459\n"
     ]
    }
   ],
   "source": [
    "#(b) Sample Mean and Sample Variance\n",
    "\n",
    "theoretical_mean = ((low+up)/2)\n",
    "print(\"Theoretical mean = \" , theoretical_mean)\n",
    "theoretical_var = (((up-low)**2)/12)\n",
    "print(\"Theoretical Variance =  \" , theoretical_var)\n",
    "\n",
    "mean = np.mean(samp)\n",
    "print(\"Sample mean =\", mean )\n",
    "var = np.var(samp)\n",
    "print(\"Sample variance =\", var)"
   ]
  },
  {
   "cell_type": "code",
   "execution_count": 9,
   "metadata": {},
   "outputs": [
    {
     "name": "stdout",
     "output_type": "stream",
     "text": [
      "Bootstrap Confidence Interval for Sample mean = -0.5024091139574623    (-0.5306083408290234, -0.47331739855279453)\n",
      "Bootstrap Confidence Interval for Sample variance = 1.444559282059615    (1.4320565169803492, 1.4575169775347185)\n"
     ]
    }
   ],
   "source": [
    "#(c) Bootstrap Confidence Interval\n",
    "\n",
    "sampl = np.array(samp)\n",
    "bsr = bs.bootstrap(sampl, stat_func=bs_stats.mean, alpha=0.05)\n",
    "print(\"Bootstrap Confidence Interval for Sample mean =\",bsr)\n",
    "\n",
    "bsr = bs.bootstrap(sampl, stat_func=bs_stats.std, alpha=0.05)\n",
    "print(\"Bootstrap Confidence Interval for Sample variance =\",bsr)"
   ]
  }
 ],
 "metadata": {
  "kernelspec": {
   "display_name": "Python 3",
   "language": "python",
   "name": "python3"
  },
  "language_info": {
   "codemirror_mode": {
    "name": "ipython",
    "version": 3
   },
   "file_extension": ".py",
   "mimetype": "text/x-python",
   "name": "python",
   "nbconvert_exporter": "python",
   "pygments_lexer": "ipython3",
   "version": "3.7.7"
  }
 },
 "nbformat": 4,
 "nbformat_minor": 4
}
