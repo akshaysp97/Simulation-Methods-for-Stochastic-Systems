{
 "cells": [
  {
   "cell_type": "code",
   "execution_count": 1,
   "metadata": {},
   "outputs": [
    {
     "name": "stdin",
     "output_type": "stream",
     "text": [
      "Enter the number of heads desired 8\n"
     ]
    },
    {
     "name": "stdout",
     "output_type": "stream",
     "text": [
      "Number of tosses =  15\n"
     ]
    }
   ],
   "source": [
    "'''Simulating tossing a fair coin and to count the number of tosses \n",
    "        until reaching user specified number of heads'''\n",
    "\n",
    "import numpy as np\n",
    "import matplotlib.pyplot as plt\n",
    "\n",
    "heads_desired = int(input(\"Enter the number of heads desired\"))\n",
    "num_heads = 0\n",
    "tosses = 0\n",
    "\n",
    "while num_heads < heads_desired:\n",
    "    if np.random.sample() < 0.5:\n",
    "        num_heads += 1\n",
    "        tosses += 1\n",
    "    else:\n",
    "        tosses += 1\n",
    "    \n",
    "print(\"Number of tosses = \", tosses)"
   ]
  }
 ],
 "metadata": {
  "kernelspec": {
   "display_name": "Python 3",
   "language": "python",
   "name": "python3"
  },
  "language_info": {
   "codemirror_mode": {
    "name": "ipython",
    "version": 3
   },
   "file_extension": ".py",
   "mimetype": "text/x-python",
   "name": "python",
   "nbconvert_exporter": "python",
   "pygments_lexer": "ipython3",
   "version": "3.7.7"
  }
 },
 "nbformat": 4,
 "nbformat_minor": 4
}
