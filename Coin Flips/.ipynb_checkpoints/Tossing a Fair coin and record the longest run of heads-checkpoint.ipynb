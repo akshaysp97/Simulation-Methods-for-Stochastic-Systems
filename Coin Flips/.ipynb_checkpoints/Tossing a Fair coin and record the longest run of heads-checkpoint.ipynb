{
 "cells": [
  {
   "cell_type": "markdown",
   "metadata": {},
   "source": [
    "# Simulate tossing a fair coin (a Bernoulli trial) 50 times. Count the number of heads. Record the longest run of heads."
   ]
  },
  {
   "cell_type": "code",
   "execution_count": 1,
   "metadata": {},
   "outputs": [
    {
     "name": "stdout",
     "output_type": "stream",
     "text": [
      "Number of heads =  23\n",
      "Longest Head run length =  4\n",
      "[1 0 1 1 0 1 0 1 1 0 0 1 0 0 0 0 1 1 0 0 0 1 0 1 0 0 1 0 1 0 0 0 1 1 0 0 1\n",
      " 0 0 1 0 0 0 1 1 0 1 1 1 1]\n"
     ]
    }
   ],
   "source": [
    "'''Simulating tossing a fair coin 50 times and count the number of heads.\n",
    "        Record longest run of heads'''\n",
    "\n",
    "import numpy as np\n",
    "import matplotlib.pyplot as plt\n",
    "\n",
    "simu = np.random.binomial(n=1, p=0.5, size = 50)  #draw samples from a binomial distribution\n",
    "                                                  #n=1 for Bernoulli trial\n",
    "                                                 \n",
    "num_heads = sum(simu)   #count the number of heads\n",
    "count = 0\n",
    "head_runs = 0\n",
    "for i in simu:\n",
    "    if i == 1:\n",
    "        count += 1\n",
    "        if count >= head_runs:\n",
    "            head_runs = count\n",
    "    if i == 0:\n",
    "        count = 0\n",
    "        \n",
    "print (\"Number of heads = \", num_heads)\n",
    "print (\"Longest Head run length = \", head_runs)\n",
    "print(simu)"
   ]
  },
  {
   "cell_type": "code",
   "execution_count": 2,
   "metadata": {},
   "outputs": [
    {
     "data": {
      "text/plain": [
       "<function matplotlib.pyplot.show(*args, **kw)>"
      ]
     },
     "execution_count": 2,
     "metadata": {},
     "output_type": "execute_result"
    },
    {
     "data": {
      "image/png": "[encoded data removed]",
      "text/plain": [
       "<Figure size 432x288 with 1 Axes>"
      ]
     },
     "metadata": {
      "needs_background": "light"
     },
     "output_type": "display_data"
    }
   ],
   "source": [
    "''' Simulating the experiment 20, 100, 200, 1000 times.\n",
    "    Generating a Histogram for each showing number of heads in 50 flips.'''\n",
    "\n",
    "num_repeat = 1000\n",
    "head_arr = np.empty([num_repeat,1])\n",
    "for i in range(num_repeat):\n",
    "    num_heads = 0\n",
    "    for j in range(50):\n",
    "        if np.random.sample() < 0.5:\n",
    "            num_heads += 1\n",
    "    head_arr[i] = num_heads\n",
    "    \n",
    "bins = np.arange(51+1)-0.5 \n",
    "\n",
    "plt.hist(head_arr, bins, facecolor = 'red', edgecolor = 'black', alpha = 0.75)\n",
    "plt.xticks(range(51))   \n",
    "plt.xlim([10, 40]) \n",
    "plt.xlabel(\"Number of heads\")\n",
    "plt.ylabel(\"count\")\n",
    "plt.title(\"Histogram showing number of heads in 50 flips\")\n",
    "plt.show"
   ]
  }
 ],
 "metadata": {
  "kernelspec": {
   "display_name": "Python 3",
   "language": "python",
   "name": "python3"
  },
  "language_info": {
   "codemirror_mode": {
    "name": "ipython",
    "version": 3
   },
   "file_extension": ".py",
   "mimetype": "text/x-python",
   "name": "python",
   "nbconvert_exporter": "python",
   "pygments_lexer": "ipython3",
   "version": "3.7.7"
  }
 },
 "nbformat": 4,
 "nbformat_minor": 4
}
