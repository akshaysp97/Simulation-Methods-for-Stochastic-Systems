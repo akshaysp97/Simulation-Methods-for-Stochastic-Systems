{
 "cells": [
  {
   "cell_type": "code",
   "execution_count": 21,
   "metadata": {},
   "outputs": [
    {
     "name": "stdout",
     "output_type": "stream",
     "text": [
      "Longest Head run length =  4\n"
     ]
    },
    {
     "data": {
      "image/png": "[encoded data removed]",
      "text/plain": [
       "<Figure size 432x288 with 1 Axes>"
      ]
     },
     "metadata": {
      "needs_background": "light"
     },
     "output_type": "display_data"
    }
   ],
   "source": [
    "'''Simulating tossing a fair coin 100 times.\n",
    "        To generate a histogram showing head run lengths'''\n",
    "\n",
    "import numpy as np\n",
    "import matplotlib.pyplot as plt\n",
    "\n",
    "tosses = 100\n",
    "record_run = np.empty([tosses, 1]) \n",
    "count = 0\n",
    "head_runs = 0\n",
    "times = 0\n",
    "\n",
    "for i in range(tosses):\n",
    "    if np.random.sample() >= 0.5:\n",
    "        if count != 0:\n",
    "            record_run[times] = count\n",
    "            times += 1\n",
    "        count = 0\n",
    "    else:\n",
    "        count += 1\n",
    "        if count >= head_runs:\n",
    "            head_runs = count\n",
    "            \n",
    "    if i == tosses-1 and count != 0:\n",
    "        record_run[times] = count\n",
    "\n",
    "print (\"Longest Head run length = \", head_runs)\n",
    "\n",
    "bins = np.arange(51+1)-0.5\n",
    "\n",
    "plt.hist(record, bins, facecolor = 'red', edgecolor = 'black', alpha = 0.75)\n",
    "plt.xlim([-1, 10])\n",
    "plt.xlabel(\"Head run lengths\")\n",
    "plt.ylabel(\"count\")\n",
    "plt.title(\"Histogram showing the head run lengths\")\n",
    "plt.show()"
   ]
  }
 ],
 "metadata": {
  "kernelspec": {
   "display_name": "Python 3",
   "language": "python",
   "name": "python3"
  },
  "language_info": {
   "codemirror_mode": {
    "name": "ipython",
    "version": 3
   },
   "file_extension": ".py",
   "mimetype": "text/x-python",
   "name": "python",
   "nbconvert_exporter": "python",
   "pygments_lexer": "ipython3",
   "version": "3.7.7"
  }
 },
 "nbformat": 4,
 "nbformat_minor": 4
}
