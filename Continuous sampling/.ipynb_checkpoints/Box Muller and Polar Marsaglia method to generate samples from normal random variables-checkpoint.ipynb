{
 "cells": [
  {
   "cell_type": "markdown",
   "metadata": {},
   "source": [
    "# Box Muller and Polar Marsaglia method to generate samples from normal random variables"
   ]
  },
  {
   "cell_type": "code",
   "execution_count": 1,
   "metadata": {},
   "outputs": [
    {
     "data": {
      "image/png": "[encoded data removed]",
      "text/plain": [
       "<Figure size 432x288 with 1 Axes>"
      ]
     },
     "metadata": {
      "needs_background": "light"
     },
     "output_type": "display_data"
    },
    {
     "name": "stdout",
     "output_type": "stream",
     "text": [
      "For Box Muller\n",
      "covariance between x & y =  \n",
      " [[3.9626393  0.07971984]\n",
      " [0.07971984 8.70883109]]\n",
      "\n",
      "sample mean =  2.8031118952260745\n",
      "The theoretical mean of A is 3\n",
      "sample variance =  12.830910068391903\n",
      "The theoretical variance of A is 13\n",
      "\n",
      "For Polar Marsaglia\n",
      "\n",
      "covariance between x & y =  \n",
      " [[4.00047322e+00 2.83002442e-03]\n",
      " [2.83002442e-03 9.00016194e+00]]\n",
      "sample mean =  2.999511119791296\n",
      "sample variance =  13.006295201969726\n",
      "\n",
      "X mean =  1.0004718801978925\n",
      "The theoretical mean of X is 1\n",
      "\n",
      "Y mean =  1.937859144491922\n",
      "The theoretical mean of Y is 2\n",
      "\n",
      "X variance =  4.00047321754279\n",
      "The theoretical variance of X is 4.\n",
      "\n",
      "Y variance =  9.000161935584227\n",
      "The theoretical variance of Y is 9\n",
      "\n",
      "box muller time =  7.98763108253479\n",
      "polar marsaglia time =  16.27847456932068\n"
     ]
    }
   ],
   "source": [
    "#Box Muller and Polar Marsaglia method to generate samples from normal random variables\n",
    "\n",
    "import time\n",
    "import math\n",
    "import numpy as np\n",
    "import matplotlib.pyplot as plt\n",
    "\n",
    "def boxmuller(n):\n",
    "    a = []\n",
    "    x = []\n",
    "    y = []\n",
    "    for i in range(n):\n",
    "        u1, u2 = np.random.uniform(size=2)\n",
    "        X = ((-2 * math.log(u1)) ** 0.5) * math.cos(2 * math.pi * u2)\n",
    "        x.append(2 * X + 1)\n",
    "        Y = ((-2 * math.log(u1)) ** 0.5) * math.sin(2 * math.pi * u2)\n",
    "        y.append(3 * Y + 2)\n",
    "        a.append(2 * X + 1 + 3 * Y + 2)\n",
    "    return a, x, y\n",
    "\n",
    "def marsaglia(n):\n",
    "    a = []\n",
    "    x = []\n",
    "    y = []\n",
    "    count = 0\n",
    "    while count < n:\n",
    "        u1, u2 = np.random.uniform(-1, 1, size=2)\n",
    "        s = u1 ** 2 + u2 ** 2\n",
    "        if s < 1:\n",
    "            X = u1 * ((-2 * np.log(s) / s) ** 0.5)\n",
    "            x.append(2 * X + 1)\n",
    "            Y = u2 * ((-2 * np.log(s) / s) ** 0.5)\n",
    "            y.append(3 * Y + 2)\n",
    "            a.append(2 * X + 1 + 3 * Y + 2)\n",
    "            count += 1\n",
    "    return a, x, y\n",
    "\n",
    "def theoretical(x):\n",
    "    theoretical_pdf = []\n",
    "    for i in x:\n",
    "        theoretical_pdf.append(np.exp(-((i - 3) ** 2) / (2 * 13)) / ((13 ** 0.5) * np.sqrt(2 * np.pi)))\n",
    "    return theoretical_pdf\n",
    "\n",
    "a, x, y = boxmuller(1000)\n",
    "theoretical_pdf = theoretical(np.arange(min(a)-1, max(a)+2, 0.05))\n",
    "plt.figure()\n",
    "plt.hist(a, bins=math.ceil(max(a) - min(a)), edgecolor='black', label='Box Muller', density = 1)\n",
    "plt.plot(np.arange(min(a) - 1, max(a) + 2, 0.05), theoretical_pdf, color='r', label='theoretical')\n",
    "plt.xticks(range(int(min(a)) - 1, int(max(a)) + 2))\n",
    "plt.xlabel('A value')\n",
    "plt.ylabel('Sample Frequency')\n",
    "plt.legend()\n",
    "plt.show()\n",
    "print('For Box Muller')\n",
    "print('covariance between x & y =  \\n', np.cov(np.vstack((x,y))))\n",
    "print('\\nsample mean = ', np.mean(a))\n",
    "print('The theoretical mean of A is 3')\n",
    "print('sample variance = ', np.var(a, ddof=1))\n",
    "print('The theoretical variance of A is 13')\n",
    "\n",
    "A, X, Y = marsaglia(1000000)\n",
    "print('\\nFor Polar Marsaglia')\n",
    "print('\\ncovariance between x & y =  \\n', np.cov(np.vstack((X,Y))))\n",
    "print('sample mean = ', np.mean(A))\n",
    "print('sample variance = ', np.var(A, ddof=1))\n",
    "print('\\nX mean = ', np.mean(X))\n",
    "print('The theoretical mean of X is 1')\n",
    "print('\\nY mean = ', np.mean(y))\n",
    "print('The theoretical mean of Y is 2')\n",
    "print('\\nX variance = ', np.var(X, ddof=1))\n",
    "print('The theoretical variance of X is 4.')\n",
    "print('\\nY variance = ', np.var(Y, ddof=1))\n",
    "print('The theoretical variance of Y is 9')\n",
    "\n",
    "boxmuller_start = time.time()\n",
    "boxmuller(1000000)\n",
    "boxmuller_end = time.time()\n",
    "print('\\nbox muller time = ', boxmuller_end - boxmuller_start)\n",
    "marsaglia_start = time.time()\n",
    "marsaglia(1000000)\n",
    "marsaglia_end = time.time()\n",
    "print('polar marsaglia time = ', marsaglia_end - marsaglia_start)"
   ]
  }
 ],
 "metadata": {
  "kernelspec": {
   "display_name": "Python 3",
   "language": "python",
   "name": "python3"
  },
  "language_info": {
   "codemirror_mode": {
    "name": "ipython",
    "version": 3
   },
   "file_extension": ".py",
   "mimetype": "text/x-python",
   "name": "python",
   "nbconvert_exporter": "python",
   "pygments_lexer": "ipython3",
   "version": "3.7.7"
  }
 },
 "nbformat": 4,
 "nbformat_minor": 4
}
