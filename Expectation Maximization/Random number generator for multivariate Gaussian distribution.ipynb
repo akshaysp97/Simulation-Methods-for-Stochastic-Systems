{
 "cells": [
  {
   "cell_type": "markdown",
   "metadata": {},
   "source": [
    "# Random number generator for multivariate Gaussian distribution"
   ]
  },
  {
   "cell_type": "code",
   "execution_count": 8,
   "metadata": {},
   "outputs": [
    {
     "name": "stdout",
     "output_type": "stream",
     "text": [
      "[1.61143516 2.74608659 4.34503718]\n",
      "[1.11980685 3.97855725 4.71786367]\n",
      "[2.28957648 2.91560996 4.94083791]\n",
      "[1.80555875 2.01631744 4.15387593]\n",
      "[2.52201015 1.72103348 4.29878479]\n"
     ]
    }
   ],
   "source": [
    "#Random number generator for multivariate Gaussian distribution\n",
    "\n",
    "import numpy as np\n",
    "\n",
    "u = np.array([1, 2, 3])\n",
    "E = np.array([[3, -1, 1], [-1, 5, 3], [1, 3, 4]])\n",
    "cholesky = np.linalg.cholesky(E)\n",
    "for i in range(5):\n",
    "    random = np.array(np.random.rand(3))\n",
    "    x = np.dot(cholesky, random.T) + u\n",
    "    print(x)"
   ]
  }
 ],
 "metadata": {
  "kernelspec": {
   "display_name": "Python 3",
   "language": "python",
   "name": "python3"
  },
  "language_info": {
   "codemirror_mode": {
    "name": "ipython",
    "version": 3
   },
   "file_extension": ".py",
   "mimetype": "text/x-python",
   "name": "python",
   "nbconvert_exporter": "python",
   "pygments_lexer": "ipython3",
   "version": "3.7.7"
  }
 },
 "nbformat": 4,
 "nbformat_minor": 4
}
