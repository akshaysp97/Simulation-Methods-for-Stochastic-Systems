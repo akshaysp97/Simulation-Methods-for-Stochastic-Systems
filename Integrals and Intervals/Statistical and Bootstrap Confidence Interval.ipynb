{
 "cells": [
  {
   "cell_type": "markdown",
   "metadata": {},
   "source": [
    "# To compute 95% statistical confidence interval for the mean waiting time and 95% bootstrap confidence interval"
   ]
  },
  {
   "cell_type": "code",
   "execution_count": 22,
   "metadata": {},
   "outputs": [
    {
     "name": "stdout",
     "output_type": "stream",
     "text": [
      "95% statistical CI for 15 samples : [63.278770830413194, 78.58789583625348]\n",
      "95% bootstrap CI for 15 samples: [63.53333333333333, 78.26666666666667]\n",
      "\n",
      "95% statistical CI for all data samples: [69.28139874542947, 72.51271890162934]\n",
      "95% bootstrap CI for all data samples: [69.26470588235294, 72.48897058823529]\n"
     ]
    }
   ],
   "source": [
    "#95% Statistical and Bootstrap CI\n",
    "\n",
    "import random\n",
    "import math\n",
    "import numpy as np\n",
    "\n",
    "def first_15(data):\n",
    "    low, up = statCI(data)\n",
    "    print('95% statistical CI for 15 samples :', [low,up])\n",
    "    low, up = bootstrapCI(data)\n",
    "    print('95% bootstrap CI for 15 samples:', [low,up])\n",
    "    \n",
    "\n",
    "def all_samples(data):\n",
    "    low, up = statCI(data)\n",
    "    print('\\n95% statistical CI for all data samples:', [low,up])\n",
    "    low, up = bootstrapCI(data)\n",
    "    print('95% bootstrap CI for all data samples:', [low, up])\n",
    "   \n",
    "\n",
    "def statCI(data_set):\n",
    "    mean = np.mean(data_set)\n",
    "    std = np.std(data_set, ddof=1)\n",
    "    z = 1.96\n",
    "    return [mean-z*(std/math.sqrt(len(data_set))), mean+z*(std/math.sqrt(len(data_set)))]\n",
    "\n",
    "\n",
    "def bootstrapCI(data_set):\n",
    "    length = len(data_set)\n",
    "    result = []\n",
    "    for i in range(10000):\n",
    "        item = []\n",
    "        for j in range(length):\n",
    "            item.append(random.sample(data_set, 1))\n",
    "        result.append(np.mean(item))\n",
    "    return [np.percentile(result, 2.5), np.percentile(result, 97.5)]\n",
    "\n",
    "filename = 'faithful.dat.txt'\n",
    "with open(filename, 'r') as f:\n",
    "    txt = f.readlines()\n",
    "line = 0\n",
    "while txt[line][0] != '1':\n",
    "    line += 1\n",
    "time = []\n",
    "for i in range(line, line + 272):\n",
    "    time.append(int(txt[i].split()[-1]))\n",
    "\n",
    "first_15(time[:15])\n",
    "all_samples(time)"
   ]
  }
 ],
 "metadata": {
  "kernelspec": {
   "display_name": "Python 3",
   "language": "python",
   "name": "python3"
  },
  "language_info": {
   "codemirror_mode": {
    "name": "ipython",
    "version": 3
   },
   "file_extension": ".py",
   "mimetype": "text/x-python",
   "name": "python",
   "nbconvert_exporter": "python",
   "pygments_lexer": "ipython3",
   "version": "3.7.7"
  }
 },
 "nbformat": 4,
 "nbformat_minor": 4
}
