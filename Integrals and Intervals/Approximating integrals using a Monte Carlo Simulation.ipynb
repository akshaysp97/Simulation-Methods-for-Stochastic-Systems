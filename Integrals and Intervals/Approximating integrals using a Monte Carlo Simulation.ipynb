{
 "cells": [
  {
   "cell_type": "markdown",
   "metadata": {},
   "source": [
    "# Approximating integrals using a Monte Carlo simulation"
   ]
  },
  {
   "cell_type": "markdown",
   "metadata": {},
   "source": [
    "# Part (a)"
   ]
  },
  {
   "cell_type": "code",
   "execution_count": 6,
   "metadata": {},
   "outputs": [
    {
     "name": "stdout",
     "output_type": "stream",
     "text": [
      "Mean Estimated value = 93.58350201949386\n"
     ]
    }
   ],
   "source": [
    "#Approximating integrals using a Monte Carlo Simulation\n",
    "\n",
    "import numpy as np\n",
    "\n",
    "experiments = 10000\n",
    "result = []\n",
    "for i in range(experiments):\n",
    "    x = np.random.uniform()\n",
    "    integ = np.exp(16*(x**2)-12*x+2)\n",
    "    result.append(4*integ)\n",
    "\n",
    "print('Mean Estimated value =', np.mean(result))"
   ]
  },
  {
   "cell_type": "markdown",
   "metadata": {},
   "source": [
    "# Part (b)"
   ]
  },
  {
   "cell_type": "code",
   "execution_count": 2,
   "metadata": {},
   "outputs": [
    {
     "name": "stdout",
     "output_type": "stream",
     "text": [
      "Mean Estimated value = 1.7837045689290754\n"
     ]
    }
   ],
   "source": [
    "result = []\n",
    "experiments = 10000\n",
    "for i in range(experiments):\n",
    "    y = np.random.uniform()\n",
    "    expo = np.exp(-(1/y-1)**2)\n",
    "    integ = expo/y**2\n",
    "    result.append(2*integ)\n",
    "\n",
    "print('Mean Estimated value =', np.mean(result))"
   ]
  },
  {
   "cell_type": "markdown",
   "metadata": {},
   "source": [
    "# Part (c)"
   ]
  },
  {
   "cell_type": "code",
   "execution_count": 3,
   "metadata": {},
   "outputs": [
    {
     "name": "stdout",
     "output_type": "stream",
     "text": [
      "Mean Estimated value = 0.40948217403990755\n"
     ]
    }
   ],
   "source": [
    "experiments = 10000\n",
    "result = []\n",
    "for i in range(experiments):\n",
    "    a = np.random.uniform()\n",
    "    b = np.random.uniform()\n",
    "    integ = np.exp(-(a+b)**2)\n",
    "    result.append(integ)\n",
    "    \n",
    "print('Mean Estimated value =', np.mean(result))"
   ]
  }
 ],
 "metadata": {
  "kernelspec": {
   "display_name": "Python 3",
   "language": "python",
   "name": "python3"
  },
  "language_info": {
   "codemirror_mode": {
    "name": "ipython",
    "version": 3
   },
   "file_extension": ".py",
   "mimetype": "text/x-python",
   "name": "python",
   "nbconvert_exporter": "python",
   "pygments_lexer": "ipython3",
   "version": "3.7.7"
  }
 },
 "nbformat": 4,
 "nbformat_minor": 4
}
