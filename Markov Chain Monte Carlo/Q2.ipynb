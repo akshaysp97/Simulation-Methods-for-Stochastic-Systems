{
 "cells": [
  {
   "cell_type": "markdown",
   "metadata": {},
   "source": [
    "# Problem 2"
   ]
  },
  {
   "cell_type": "markdown",
   "metadata": {},
   "source": [
    "# Part (a)"
   ]
  },
  {
   "cell_type": "code",
   "execution_count": 1,
   "metadata": {},
   "outputs": [
    {
     "name": "stdout",
     "output_type": "stream",
     "text": [
      "Expectation : 18.01568171588831\n",
      "Expectation : 17.975108829195015\n",
      "Expectation : 18.007958263501738\n",
      "Expectation : 17.00170874568646\n",
      "Expectation : 18.014685945028333\n"
     ]
    }
   ],
   "source": [
    "#Q2. Gibbs Sampling\n",
    "\n",
    "import random\n",
    "import numpy as np\n",
    "\n",
    "for i in range(5):\n",
    "    lst = list(range(3))\n",
    "    x = [[5] for i in range(3)]\n",
    "    for i in range(10000):\n",
    "        s = 0\n",
    "        r = random.randint(0, 2)\n",
    "        for j in lst:\n",
    "            if j == r:\n",
    "                continue\n",
    "            s += (j + 1) * x[j][-1]\n",
    "        rest = 15 - s\n",
    "        tmp = 0\n",
    "        while tmp * (r + 1) <= rest:\n",
    "            tmp = np.random.exponential(1)\n",
    "        x[r].append(tmp)\n",
    "    mean = np.mean(x[0] + 2 * np.mean(x[1]) + 3 * np.mean(x[2]))\n",
    "    print('Expectation :',mean)"
   ]
  },
  {
   "cell_type": "markdown",
   "metadata": {},
   "source": [
    "# Part (b)"
   ]
  },
  {
   "cell_type": "code",
   "execution_count": 2,
   "metadata": {},
   "outputs": [
    {
     "name": "stdout",
     "output_type": "stream",
     "text": [
      "Expectation : 1.8124693733165028e-05\n",
      "Expectation : 1.7972939527276507e-05\n",
      "Expectation : 1.7953927859395608e-05\n",
      "Expectation : 1.799570376039081e-05\n",
      "Expectation : 1.7979423563784542e-05\n"
     ]
    }
   ],
   "source": [
    "lst = list(range(3))\n",
    "for i in range(5):\n",
    "    x = [[0.01] for i in range(3)]\n",
    "    for i in range(10000):\n",
    "        s, tmp = 0, 0\n",
    "        r = random.randint(0, 2)\n",
    "        for j in lst:\n",
    "            if j == r:\n",
    "                continue\n",
    "            s += (j+1)*x[j][-1]\n",
    "        rest = 1 - s\n",
    "        while tmp * (r+1) >= rest:\n",
    "            tmp = np.random.exponential(1)\n",
    "        x[r].append(tmp)\n",
    "    mean = np.mean(x[0]+2*np.mean(x[1])+3*np.mean(x[2]))\n",
    "    print('Expectation :',mean)"
   ]
  }
 ],
 "metadata": {
  "kernelspec": {
   "display_name": "Python 3",
   "language": "python",
   "name": "python3"
  },
  "language_info": {
   "codemirror_mode": {
    "name": "ipython",
    "version": 3
   },
   "file_extension": ".py",
   "mimetype": "text/x-python",
   "name": "python",
   "nbconvert_exporter": "python",
   "pygments_lexer": "ipython3",
   "version": "3.7.7"
  }
 },
 "nbformat": 4,
 "nbformat_minor": 4
}
