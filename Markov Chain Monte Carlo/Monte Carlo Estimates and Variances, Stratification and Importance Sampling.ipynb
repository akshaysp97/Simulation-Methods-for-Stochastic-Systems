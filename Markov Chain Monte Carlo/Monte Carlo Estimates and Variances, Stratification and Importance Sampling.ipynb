{
 "cells": [
  {
   "cell_type": "markdown",
   "metadata": {},
   "source": [
    "# Monte Carlo Estimates and Variances, Stratification and Importance Sampling"
   ]
  },
  {
   "cell_type": "markdown",
   "metadata": {},
   "source": [
    "# Part (a)"
   ]
  },
  {
   "cell_type": "code",
   "execution_count": 1,
   "metadata": {},
   "outputs": [
    {
     "name": "stdout",
     "output_type": "stream",
     "text": [
      "Monte Carlo Mean : 2.039074565654454e+20\n",
      "Monte Carlo Variance : 3.0383163264688243e+19\n"
     ]
    }
   ],
   "source": [
    "#Monte Carlo Estimates and Variances\n",
    "\n",
    "import numpy as np\n",
    "\n",
    "N = 1000\n",
    "a = np.random.rand(1, N)\n",
    "b = np.random.rand(1, N)\n",
    "\n",
    "def integral(x, y):\n",
    "    val = np.exp(5 * (5 - x) + 5 * (5 - y))\n",
    "    return val\n",
    "\n",
    "X = integral(a, b)\n",
    "mean = np.mean(X)\n",
    "var = 2 * np.std(X) / np.sqrt(N)\n",
    "print('Monte Carlo Mean :', mean)\n",
    "print('Monte Carlo Variance :', var)"
   ]
  },
  {
   "cell_type": "code",
   "execution_count": 2,
   "metadata": {},
   "outputs": [
    {
     "name": "stdout",
     "output_type": "stream",
     "text": [
      "After Stratification\n",
      "Mean : 2.0675233316094932e+20\n",
      "Variance : 2.742476502472419e+18\n"
     ]
    }
   ],
   "source": [
    "# Stratification\n",
    "\n",
    "K = 20\n",
    "Nij = N / np.power(K, 2)\n",
    "XSb = np.zeros((K, K))\n",
    "SS = np.zeros((K,K))\n",
    "for i in range(K):\n",
    "    for j in range(K):\n",
    "        XS = integral((i + np.random.rand(1, int(Nij))) / K, (j + np.random.rand(1, int(Nij))) / K)\n",
    "        XSb[i][j] = np.mean(XS)\n",
    "        SS[i][j] = np.var(XS)\n",
    "\n",
    "SST = np.mean((SS / N))\n",
    "SSM = np.mean((XSb))\n",
    "var = 2 * np.sqrt(SST)\n",
    "print('After Stratification')\n",
    "print('Mean :', SSM)\n",
    "print('Variance :', var)"
   ]
  },
  {
   "cell_type": "code",
   "execution_count": 3,
   "metadata": {},
   "outputs": [
    {
     "name": "stdout",
     "output_type": "stream",
     "text": [
      "After Importance Sampling\n",
      "Mean : 2.290829305409707e+20\n",
      "Variance : 4.969045328379527e+19\n"
     ]
    }
   ],
   "source": [
    "# Importance Sampling\n",
    "\n",
    "n = 1000\n",
    "U = np.random.rand(2, n)\n",
    "x = np.log(1 + (np.exp(1) - 1) * U)\n",
    "T = (np.e-1) ** 2 * np.exp(5 * (5 - x[0]) + 5 * (5 - x[1]) - (x[0] + x[1]))\n",
    "mean = np.mean(T)\n",
    "var = 2 * np.std(T) / np.sqrt(N)\n",
    "print('After Importance Sampling')\n",
    "print('Mean :', mean)\n",
    "print('Variance :', var)"
   ]
  },
  {
   "cell_type": "markdown",
   "metadata": {},
   "source": [
    "# Part (b)"
   ]
  },
  {
   "cell_type": "code",
   "execution_count": 4,
   "metadata": {},
   "outputs": [
    {
     "name": "stdout",
     "output_type": "stream",
     "text": [
      "Monte Carlo Mean : -0.03833097030006792\n",
      "Monte Carlo Variance : 0.04399338827140594\n"
     ]
    }
   ],
   "source": [
    "N = 1000\n",
    "a = np.random.uniform(-1, 1, N)\n",
    "b = np.random.uniform(-1, 1, N)\n",
    "\n",
    "def integral(x, y):\n",
    "    val = np.cos(np.pi + 5*x + 5*y)\n",
    "    return val\n",
    "\n",
    "X = integral(a, b)\n",
    "mean = np.mean(X)\n",
    "var = 2 * np.std(X) / np.sqrt(N)\n",
    "print('Monte Carlo Mean :', mean)\n",
    "print('Monte Carlo Variance :', var)"
   ]
  },
  {
   "cell_type": "code",
   "execution_count": 5,
   "metadata": {},
   "outputs": [
    {
     "name": "stdout",
     "output_type": "stream",
     "text": [
      "After Stratification\n",
      "Mean : 0.004049856604544147\n",
      "Variance : 0.006434320866111637\n"
     ]
    }
   ],
   "source": [
    "# Stratification\n",
    "\n",
    "K = 20\n",
    "Nij = N / np.power(K, 2)\n",
    "XSb = np.zeros((K, K))\n",
    "SS = np.zeros((K,K))\n",
    "for i in range(K):\n",
    "    for j in range(K):\n",
    "        XS = integral((i + np.random.uniform(-1, 1, int(Nij))) / K, (j + np.random.uniform(-1, 1, int(Nij))) / K)\n",
    "        XSb[i][j] = np.mean(XS)\n",
    "        SS[i][j] = np.var(XS)\n",
    "\n",
    "SST = np.mean((SS / N))\n",
    "SSM = np.mean((XSb))\n",
    "var = 2 * np.sqrt(SST)\n",
    "print('After Stratification')\n",
    "print('Mean :', (SSM))\n",
    "print('Variance :', var)"
   ]
  },
  {
   "cell_type": "code",
   "execution_count": 6,
   "metadata": {},
   "outputs": [
    {
     "name": "stdout",
     "output_type": "stream",
     "text": [
      "After Importance Sampling\n",
      "Mean : 0.22039039682042863\n",
      "Variance : 0.13062646702662226\n"
     ]
    }
   ],
   "source": [
    "# Importance Sampling\n",
    "\n",
    "n = 1000\n",
    "U = 2 * np.random.rand(2, n) - 1\n",
    "x = np.log(1 + U)\n",
    "T = (np.e-1) ** 2 * np.cos(np.pi + 5 * x[0] + 5 * x[1] - (x[0] + x[1]))\n",
    "mean = np.mean(T)\n",
    "var = 2 * np.std(T) / np.sqrt(N)\n",
    "print('After Importance Sampling')\n",
    "print('Mean :', mean)\n",
    "print('Variance :', var)"
   ]
  }
 ],
 "metadata": {
  "kernelspec": {
   "display_name": "Python 3",
   "language": "python",
   "name": "python3"
  },
  "language_info": {
   "codemirror_mode": {
    "name": "ipython",
    "version": 3
   },
   "file_extension": ".py",
   "mimetype": "text/x-python",
   "name": "python",
   "nbconvert_exporter": "python",
   "pygments_lexer": "ipython3",
   "version": "3.7.7"
  }
 },
 "nbformat": 4,
 "nbformat_minor": 4
}
