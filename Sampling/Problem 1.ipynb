{
 "cells": [
  {
   "cell_type": "markdown",
   "metadata": {},
   "source": [
    "# Problem 1"
   ]
  },
  {
   "cell_type": "code",
   "execution_count": 62,
   "metadata": {},
   "outputs": [
    {
     "name": "stdout",
     "output_type": "stream",
     "text": [
      "Lot rejection probability is  0.238\n",
      "Fewest Number of chips distributor should test for 95% rejection : 49\n"
     ]
    }
   ],
   "source": [
    "#Probability that distributor will reject the lot if it tests 5 chips from 125 chips\n",
    "\n",
    "import numpy as np\n",
    "import random\n",
    "import matplotlib.pyplot as plt\n",
    "\n",
    "def reject(trials,chips,defects):\n",
    "    samp = list(range(defects))\n",
    "    rejects = 0\n",
    "    for i in range(trials):\n",
    "        perm = np.random.choice(125,chips,replace=False)\n",
    "        lis = []\n",
    "        for i in samp:\n",
    "            if i in perm:\n",
    "                lis.append(True)\n",
    "            else:\n",
    "                lis.append(False)\n",
    "        try:\n",
    "            lis.index(1)\n",
    "            rejects+=1\n",
    "        except:\n",
    "            None\n",
    "    rej_prob = rejects/trials\n",
    "    return rej_prob\n",
    "\n",
    "prob = reject(1000,5,6)\n",
    "print(\"Lot rejection probability is \", prob)\n",
    "      \n",
    "#Fewest Number of chips distributor should test for 95% rejection\n",
    "def fewest(trials,chips,defects):\n",
    "    p = 0\n",
    "    while(p < 0.95):\n",
    "        p = reject(trials,chips,defects)\n",
    "        chips+=1\n",
    "    return chips\n",
    "      \n",
    "few_num = fewest(1000,5,6)\n",
    "print(\"Fewest Number of chips distributor should test for 95% rejection :\",few_num)"
   ]
  }
 ],
 "metadata": {
  "kernelspec": {
   "display_name": "Python 3",
   "language": "python",
   "name": "python3"
  },
  "language_info": {
   "codemirror_mode": {
    "name": "ipython",
    "version": 3
   },
   "file_extension": ".py",
   "mimetype": "text/x-python",
   "name": "python",
   "nbconvert_exporter": "python",
   "pygments_lexer": "ipython3",
   "version": "3.7.7"
  }
 },
 "nbformat": 4,
 "nbformat_minor": 4
}
