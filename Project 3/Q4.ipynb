{
 "cells": [
  {
   "cell_type": "markdown",
   "metadata": {},
   "source": [
    "# Problem 4"
   ]
  },
  {
   "cell_type": "code",
   "execution_count": 27,
   "metadata": {},
   "outputs": [
    {
     "data": {
      "image/png": "[encoded data removed]",
      "text/plain": [
       "<Figure size 432x288 with 1 Axes>"
      ]
     },
     "metadata": {
      "needs_background": "light"
     },
     "output_type": "display_data"
    },
    {
     "name": "stdout",
     "output_type": "stream",
     "text": [
      "Theoretical E[N60] =  280.79222477710414\n",
      "Theoretical V[N60] =  78563.48127049867\n",
      "Estimate E[N60] = 282.8555\n",
      "Estimate var[N60] = 79895.85261975\n"
     ]
    }
   ],
   "source": [
    "#Q4. Producing sequence Xk\n",
    "\n",
    "import numpy as np\n",
    "import matplotlib.pyplot as plt\n",
    "\n",
    "seq = 0\n",
    "for i in range(1, 61):\n",
    "    seq += (1/i)\n",
    "p = 1/seq\n",
    "th = p/60\n",
    "mean = 1/th\n",
    "Var = (1-th)/(th*th)\n",
    "\n",
    "total = []\n",
    "for i in range(10000):\n",
    "    num = 0\n",
    "    while True:\n",
    "        rand_num = np.random.sample()\n",
    "        num += 1\n",
    "        if rand_num < p/60:\n",
    "            total.append(num)\n",
    "            break\n",
    "            \n",
    "plt.hist(total, 30 , color='r', edgecolor='k')\n",
    "plt.title('Histogram for Distribution for N = 60')\n",
    "plt.xlabel('Repetitions to achive success')\n",
    "plt.ylabel('Frequency')\n",
    "plt.show()\n",
    "\n",
    "print(\"Theoretical E[N60] = \", mean)\n",
    "print(\"Theoretical V[N60] = \", Var)\n",
    "print('Estimate E[N60] =', np.mean(total))\n",
    "print('Estimate var[N60] =', np.var(total))\n"
   ]
  }
 ],
 "metadata": {
  "kernelspec": {
   "display_name": "Python 3",
   "language": "python",
   "name": "python3"
  },
  "language_info": {
   "codemirror_mode": {
    "name": "ipython",
    "version": 3
   },
   "file_extension": ".py",
   "mimetype": "text/x-python",
   "name": "python",
   "nbconvert_exporter": "python",
   "pygments_lexer": "ipython3",
   "version": "3.7.4"
  }
 },
 "nbformat": 4,
 "nbformat_minor": 4
}
