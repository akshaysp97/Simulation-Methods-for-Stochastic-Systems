{
 "cells": [
  {
   "cell_type": "markdown",
   "metadata": {},
   "source": [
    "# To estimate the expected amount of time the server is on break in the first 100 hours of operation where jobs arrive at a single‐server queue system according to a nonhomogeneous Poisson process"
   ]
  },
  {
   "cell_type": "code",
   "execution_count": 1,
   "metadata": {},
   "outputs": [
    {
     "name": "stdout",
     "output_type": "stream",
     "text": [
      "The expected amount of time that the server is on break = 51.99539348906278\n"
     ]
    }
   ],
   "source": [
    "#Single‐server queue system according to a nonhomogeneous Poisson process.\n",
    "\n",
    "import numpy as np\n",
    "\n",
    "time_arr = []\n",
    "lst = []\n",
    "est = 0\n",
    "break_arr = []\n",
    "rate = [x for x in range(4, 20, 3)] + [x for x in range(19, 6, -3)]\n",
    "for i in range(100):\n",
    "    count = i\n",
    "    while True:\n",
    "        count += (-1/rate[i % 10]) * np.log(np.random.uniform())\n",
    "        if count - i > 1:\n",
    "            break\n",
    "        time_arr.append(count) \n",
    "\n",
    "while len(time_arr):\n",
    "    if est < time_arr[0]:\n",
    "        break_arr.append(0.3 * np.random.rand())\n",
    "        est += break_arr[-1]\n",
    "    else:\n",
    "        est += np.random.exponential(1 / 25, 1)\n",
    "        time_arr.remove(time_arr[0])\n",
    "lst.append(sum(break_arr))\n",
    "print(\"The expected amount of time that the server is on break =\", np.mean(lst))"
   ]
  }
 ],
 "metadata": {
  "kernelspec": {
   "display_name": "Python 3",
   "language": "python",
   "name": "python3"
  },
  "language_info": {
   "codemirror_mode": {
    "name": "ipython",
    "version": 3
   },
   "file_extension": ".py",
   "mimetype": "text/x-python",
   "name": "python",
   "nbconvert_exporter": "python",
   "pygments_lexer": "ipython3",
   "version": "3.7.7"
  }
 },
 "nbformat": 4,
 "nbformat_minor": 4
}
