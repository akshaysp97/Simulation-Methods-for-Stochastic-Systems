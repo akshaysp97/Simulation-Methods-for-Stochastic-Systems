{
 "cells": [
  {
   "cell_type": "markdown",
   "metadata": {},
   "source": [
    "# Problem 3"
   ]
  },
  {
   "cell_type": "code",
   "execution_count": 1,
   "metadata": {},
   "outputs": [
    {
     "name": "stdout",
     "output_type": "stream",
     "text": [
      "[[0.5 0.  0.  0.  0.  0.  0.  0.  0.  0.  0.  0.  0.  0.  0.  0.  0.  0.\n",
      "  0.  0.  0.  0.  0.  0.  0.  0.  0.  0.  0.  0.  0.  0.  0.  0.  0.  0.\n",
      "  0.  0.  0.  0.  0.  0.  0.  0.  0.  0.  0.  0.  0.  0.  0.  0.  0.  0.\n",
      "  0.  0.  0.  0.  0.  0.  0.  0.  0.  0.  0.  0.  0.  0.  0.  0.  0.  0.\n",
      "  0.  0.  0.  0.  0.  0.  0.  0.  0.  0.  0.  0.  0.  0.  0.  0.  0.  0.\n",
      "  0.  0.  0.  0.  0.  0.  0.  0.  0.  0.  0.  0.  0.  0.  0.  0.  0.  0.\n",
      "  0.  0.  0.  0.  0.  0.  0.  0.  0.  0.  0.  0.  0.  0.  0.  0.  0.  0.\n",
      "  0.  0.  0.  0.  0.  0.  0.  0.  0.  0.  0.  0.  0.  0.  0.  0.  0.  0.\n",
      "  0.  0.  0.  0.  0.  0.  0.  0.  0.  0.  0.  0.  0.  0.  0.  0.  0.  0.\n",
      "  0.  0.  0.  0.  0.  0.  0.  0.  0.  0.  0.  0.  0.  0.  0.  0.  0.  0.\n",
      "  0.  0.  0.  0.  0.  0.  0.  0.  0.  0.  0.  0.  0.  0.  0.  0.  0.  0.\n",
      "  0.  0.  0.5]]\n",
      "\n",
      "Convergence after 1583  iterations\n"
     ]
    }
   ],
   "source": [
    "#Q3. Wright‐Fisher model\n",
    "\n",
    "import numpy as np\n",
    "from scipy.special import comb\n",
    "\n",
    "\n",
    "lst = [0.5] + [0] * 199 + [0.5]\n",
    "lst = np.mat(lst)\n",
    "p = [[0] * 201 for i in range(201)]\n",
    "for i in range(201):\n",
    "    for j in range(201):\n",
    "        p[i][j] = comb(200, j) * (i / (200)) ** j * (1 - i / (200)) ** (200 - j)\n",
    "p = np.mat(p)\n",
    "for i in range(1000):\n",
    "    lst *= p\n",
    "for ele in lst:\n",
    "    print(ele)\n",
    "    \n",
    "N = 100    \n",
    "n = 1600\n",
    "arr = np.array([0]*(2*N)) \n",
    "input = np.insert(arr,49,1)\n",
    "output = np.zeros((n+1,2*N+1)) \n",
    "t = np.arange(0,n)\n",
    "output[0] = input\n",
    "for i in range(1,n):\n",
    "    output[i,:] = np.dot(output[i-1,:],p)\n",
    "    if np.allclose(output[i,:],output[i-1,:]):\n",
    "        print('\\nConvergence after '+str(i),' iterations')\n",
    "        break"
   ]
  }
 ],
 "metadata": {
  "kernelspec": {
   "display_name": "Python 3",
   "language": "python",
   "name": "python3"
  },
  "language_info": {
   "codemirror_mode": {
    "name": "ipython",
    "version": 3
   },
   "file_extension": ".py",
   "mimetype": "text/x-python",
   "name": "python",
   "nbconvert_exporter": "python",
   "pygments_lexer": "ipython3",
   "version": "3.7.6"
  }
 },
 "nbformat": 4,
 "nbformat_minor": 4
}
